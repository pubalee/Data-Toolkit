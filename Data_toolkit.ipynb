{
  "nbformat": 4,
  "nbformat_minor": 0,
  "metadata": {
    "colab": {
      "provenance": []
    },
    "kernelspec": {
      "name": "python3",
      "display_name": "Python 3"
    },
    "language_info": {
      "name": "python"
    }
  },
  "cells": [
    {
      "cell_type": "markdown",
      "source": [
        "1.What is NumPy, and why is it widely used in Python?\n",
        "\n",
        "Ans:\n",
        "NumPy, short for Numerical Python, is an open-source library in Python providing support for large, multi-dimensional arrays and matrices, along with a collection of high-level mathematical functions to operate on these arrays. It is a fundamental package for scientific computing in Python. Medium\n",
        "Why is NumPy widely used in Python?\n",
        "Efficient Data Manipulation:\n",
        "NumPy's core object, the ndarray (N-dimensional array), is designed for efficient storage and manipulation of large datasets. It uses contiguous memory blocks and optimized C implementations, leading to significantly faster computations compared to standard Python lists, especially for numerical operations.\n",
        "Vectorized Operations:\n",
        "NumPy promotes vectorized operations, meaning operations are applied to entire arrays rather than individual elements through explicit loops. This eliminates the overhead of Python loops, resulting in substantial performance gains for numerical tasks.\n",
        "Foundation for Other Libraries:\n",
        "Many popular Python libraries for data science and machine learning, such as Pandas, Matplotlib, SciPy, and Scikit-learn, are built upon NumPy. Understanding NumPy is therefore essential for effectively using these advanced tools.\n",
        "Rich Functionality:\n",
        "NumPy offers a vast collection of pre-built mathematical functions for linear algebra, Fourier transforms, random number generation, statistical operations, and more, simplifying complex numerical computations.\n",
        "Memory Efficiency:\n",
        "Unlike Python lists, which can store elements of different data types and incur memory overhead, NumPy arrays require all elements to be of the same type, leading to more compact and efficient memory usage.\n",
        "In essence, NumPy provides the performance and functionality necessary for handling and processing numerical data efficiently, making it an indispensable tool for scientific computing, data analysis, and machine learning in Python."
      ],
      "metadata": {
        "id": "P3yjsnbbHeAh"
      }
    },
    {
      "cell_type": "markdown",
      "source": [
        "2. How does broadcasting work in NumPy?\n",
        "Ans:\n",
        "Broadcasting in NumPy allows us to perform arithmetic operations on arrays of different shapes without reshaping them. It automatically adjusts the smaller array to match the larger array's shape by replicating its values along the necessary dimensions."
      ],
      "metadata": {
        "id": "G43P0HaDSDPS"
      }
    },
    {
      "cell_type": "markdown",
      "source": [
        "3. What is a Pandas DataFrame?\n",
        "Ans:\n",
        "A Pandas DataFrame is a two-dimensional, size-mutable, and potentially heterogeneous tabular data structure with labeled axes (rows and columns). It is the primary data structure in the Pandas library for Python and is widely used for data manipulation and analysis.\n",
        "Key characteristics of a Pandas DataFrame:\n",
        "Two-dimensional:\n",
        "Data is organized in a table-like structure, similar to a spreadsheet or a SQL table, with rows and columns.\n",
        "Labeled axes:\n",
        "Both rows and columns have labels, allowing for easy access and manipulation of data by name. The row labels are known as the \"index,\" and the column labels are the \"column names.\"\n",
        "Heterogeneous data types:\n",
        "Columns can hold different data types (e.g., integers, floats, strings, booleans), making it flexible for various datasets.\n",
        "Size-mutable:\n",
        "DataFrames can be modified after creation, allowing for adding or removing columns and rows.\n",
        "Analogy:\n",
        "A Pandas DataFrame can be thought of as a more powerful and flexible version of an Excel spreadsheet or a database table within Python. It offers extensive functionalities for data cleaning, transformation, aggregation, and analysis, making it an indispensable tool in data science and related fields."
      ],
      "metadata": {
        "id": "dt3MysgESSQq"
      }
    },
    {
      "cell_type": "markdown",
      "source": [
        "4.  Explain the use of the groupby() method in Pandas?\n",
        "Ans:The groupby() method in Pandas is a fundamental tool for data analysis, enabling the \"split-apply-combine\" strategy. This strategy involves:\n",
        "Splitting:\n",
        "Dividing a DataFrame into groups based on the values of one or more specified columns.\n",
        "Applying:\n",
        "Performing a function (e.g., aggregation, transformation, filtration) independently on each of these groups.\n",
        "Combining:\n",
        "Merging the results of these operations back into a new DataFrame or Series.\n",
        "\n",
        "Key Uses:\n",
        "\n",
        "Aggregation:\n",
        "Calculating summary statistics for each group, such as sums, means, counts, minimums, or maximums.\n",
        "Transformation:\n",
        "Applying a function to each group that returns a like-indexed object, maintaining the original shape of the data. This is useful for operations like standardization within groups or filling missing values based on group characteristics.\n",
        "Filtration:\n",
        "Selecting or discarding entire groups based on a group-wise condition.\n"
      ],
      "metadata": {
        "id": "IwPMBuW1ScSS"
      }
    },
    {
      "cell_type": "markdown",
      "source": [
        "5.  Why is Seaborn preferred for statistical visualizations?\n",
        "Ans:\n",
        "Seaborn is more than just a tool for creating attractive plots—it's a gateway to understanding data. Its ability to simplify statistical plotting, integrate with pandas, and support a wide range of customization options makes it an essential library for anyone involved in data analysis and visualization."
      ],
      "metadata": {
        "id": "izx8r-laTP5q"
      }
    },
    {
      "cell_type": "markdown",
      "source": [
        "6. What are the differences between NumPy arrays and Python lists?\n",
        "Ans:\n",
        "NumPy arrays and Python lists are both used to store collections of data, but they differ significantly in their characteristics and intended use cases.\n",
        "NumPy Arrays:\n",
        "Homogeneous Data Type:\n",
        "NumPy arrays can only store elements of the same data type. This homogeneity allows for efficient storage and optimized mathematical operations.\n",
        "Performance:\n",
        "They offer significantly faster performance for numerical computations, especially with large datasets, due to their underlying implementation in C and optimized algorithms.\n",
        "Memory Efficiency:\n",
        "NumPy arrays are more memory-efficient than Python lists because they store data in contiguous blocks of memory.\n",
        "Vectorized Operations:\n",
        "They support vectorized operations, enabling element-wise operations on entire arrays without explicit loops, which further enhances performance.\n",
        "Functionality:\n",
        "NumPy provides a rich set of functions for linear algebra, Fourier transforms, random number generation, and more, making it a cornerstone for scientific computing.\n",
        "Python Lists:\n",
        "Heterogeneous Data Types:\n",
        "Python lists can store elements of different data types within the same list, offering greater flexibility.\n",
        "Flexibility:\n",
        "They are more flexible in terms of size modification, as elements can be easily added, removed, or modified.\n",
        "General Purpose:\n",
        "Python lists are a built-in data structure suitable for general-purpose tasks where data types may vary and numerical performance is not the primary concern.\n",
        "Simplicity:\n",
        "They are simpler to use for basic data storage and manipulation, without the need for external libraries.\n"
      ],
      "metadata": {
        "id": "l4v39cihCFev"
      }
    },
    {
      "cell_type": "markdown",
      "source": [
        "7. What is a heatmap, and when should it be used?\n",
        "Ans:\n",
        "A heatmap is a data visualization tool that uses color-coded representations to display the magnitude of a phenomenon as a function of two variables. It essentially shows \"hot\" and \"cold\" spots, where warmer colors indicate higher values or activity and cooler colors indicate lower values or less activity. Heatmaps are used to identify patterns, trends, and outliers in data, making them valuable for understanding user behavior on websites, analyzing performance in various fields, and optimizing user experience. Coursera\n",
        "When to use heatmaps:\n",
        "Website Optimization:\n",
        "Heatmaps are extremely useful for understanding user behavior on websites. They can show where users click, how far they scroll, and where their attention is focused, helping designers and marketers identify areas of high engagement and areas that need improvement.\n",
        "Productivity Analysis:\n",
        "In manufacturing or other production environments, heatmaps can track the performance of different areas or bays, identifying bottlenecks and areas that require attention.\n",
        "Marketing and Sales:\n",
        "Heatmaps can be used to visualize sales data across different locations or products, revealing top performers and areas for improvement in inventory management and marketing strategies.\n",
        "Geographical Data:\n",
        "Heatmaps can represent geographical data, such as population density, income levels, or temperature variations, allowing for visual analysis of spatial patterns.\n",
        "Scientific Research:\n",
        "Heatmaps are also used in scientific research to visualize complex data, such as gene expression or protein interactions, aiding in the identification of patterns and relationships.\n",
        "Key benefits of using heatmaps:\n",
        "Visual Clarity:\n",
        "Heatmaps provide a clear and intuitive way to understand data distribution and identify patterns at a glance.\n",
        "Actionable Insights:\n",
        "By highlighting areas of high and low activity, heatmaps offer valuable insights that can be used to improve user experience, optimize processes, and make data-driven decisions.\n",
        "Pattern Recognition:\n",
        "Heatmaps excel at revealing hidden patterns and correlations within data that might not be obvious in traditional data tables or charts.\n",
        "Efficiency:\n",
        "Heatmaps can quickly reveal areas of interest, allowing for focused analysis and efficient use of resources.\n"
      ],
      "metadata": {
        "id": "h9_fpS-1CTx4"
      }
    },
    {
      "cell_type": "markdown",
      "source": [
        "8.  What does the term “vectorized operation” mean in NumPy?\n",
        "Ans:\n",
        "Vectorized operations in NumPy enable the use of efficient, pre-compiled functions and mathematical operations on NumPy arrays and data sequences. Vectorization is a method of performing array operations without the use of for loops.\n",
        "e.g.:\n",
        "import numpy as np\n",
        "\n",
        "a1 = np.array([2,4,6,8,10 ])\n",
        "number= 2\n",
        "result = a1 + number\n",
        "print(result)"
      ],
      "metadata": {
        "id": "WVNoKxoPCdzB"
      }
    },
    {
      "cell_type": "markdown",
      "source": [
        "9.  How does Matplotlib differ from Plotly?\n",
        "Ans:\n",
        "Matplotlib: Is often preferred for academic or highly customized plots because you can fine-tune just about any aspect of the figure—fonts, margins, axis scales, etc.\n",
        "Plotly: While still highly customizable, Plotly's real strength lies in interactivity and web-based visuals"
      ],
      "metadata": {
        "id": "txXqvqE0Cuc7"
      }
    },
    {
      "cell_type": "markdown",
      "source": [
        "10.  What is the significance of hierarchical indexing in Pandas?\n",
        "Ans:\n",
        "Hierarchical indexing, also known as MultiIndex, in Pandas is a crucial feature that allows for the representation and manipulation of higher-dimensional data within one-dimensional Series and two-dimensional DataFrame objects. Its significance stems from several key benefits:\n",
        "Representing Multi-dimensional Data:\n",
        "It enables the compact and efficient representation of data that is naturally indexed by more than one or two keys. This means you can effectively model complex relationships and structures within your data, such as sales data categorized by region, product type, and time period, all within a single DataFrame.\n",
        "Enhanced Data Organization and Structure:\n",
        "MultiIndexes provide a clear and intuitive way to organize and structure data hierarchically. This makes the data easier to understand, navigate, and analyze, especially for datasets with multiple levels of categorization.\n",
        "Powerful Data Selection and Subsetting:\n",
        "Hierarchical indexing significantly enhances the capabilities for selecting and subsetting data. You can easily access specific subsets of data by specifying values at different levels of the index, allowing for precise and efficient data retrieval.\n",
        "Facilitating Complex Grouping and Aggregation:\n",
        "MultiIndexes streamline complex grouping and aggregation operations. You can group data by multiple levels of the index simultaneously, enabling sophisticated analysis and summarization of your data across various dimensions.\n",
        "Improved Readability and Analysis:\n",
        "By structuring data in a hierarchical manner, MultiIndexes contribute to clearer and more manageable data analysis. The organized presentation of data makes it easier to identify patterns, trends, and relationships, leading to more insightful conclusions."
      ],
      "metadata": {
        "id": "MxNjRq0BC7hM"
      }
    },
    {
      "cell_type": "markdown",
      "source": [
        "11.  What is the role of Seaborn’s pairplot() function?\n",
        "Ans:\n",
        "Seaborn's pairplot() function is a powerful tool for visualizing pairwise relationships in a dataset. Its primary role is to create a grid of plots, allowing for a comprehensive overview of how different variables interact with each other.\n",
        "Specifically, pairplot() generates:\n",
        "Scatter plots\n",
        "for each pair of numerical variables, revealing potential correlations, clusters, and trends in their relationships.\n",
        "Univariate distribution plots\n",
        "(histograms or kernel density estimates by default) on the diagonal, illustrating the distribution of each individual numerical variable.\n"
      ],
      "metadata": {
        "id": "A3Wl4AaNDWHT"
      }
    },
    {
      "cell_type": "markdown",
      "source": [
        "12.  What is the purpose of the describe() function in Pandas?\n",
        "Ans:\n",
        "he describe() function in Pandas is used to generate a statistical summary of a DataFrame or Series. Its primary purpose is to provide a quick overview of the central tendency, dispersion, and shape of the distribution of numerical data, and basic statistics for object (non-numeric) data.\n",
        "For numerical columns, describe() provides:\n",
        "count: The number of non-null observations.\n",
        "mean: The average value.\n",
        "std: The standard deviation, indicating the spread of data.\n",
        "min: The minimum value.\n",
        "25% (Q1): The 25th percentile (first quartile).\n",
        "50% (Q2): The 50th percentile (median).\n",
        "75% (Q3): The 75th percentile (third quartile).\n",
        "max: The maximum value.\n",
        "For object (e.g., string) or categorical columns, it provides:\n",
        "count: The number of non-null observations.\n",
        "unique: The number of distinct values.\n",
        "top: The most frequent value.\n",
        "freq: The frequency of the most frequent value."
      ],
      "metadata": {
        "id": "6a_7SxKODg7A"
      }
    },
    {
      "cell_type": "markdown",
      "source": [
        "13.  Why is handling missing data important in Pandas?\n",
        "Ans:\n",
        "Handling missing data in Pandas is crucial for several reasons:\n",
        "Ensuring Data Quality and Accuracy:\n",
        "Missing values can distort statistical analyses, leading to inaccurate insights and unreliable conclusions. For example, calculating an average with NaN values can yield an incorrect result if not handled properly.\n",
        "Preventing Errors in Computations and Models:\n",
        "Many analytical and machine learning algorithms cannot process datasets containing missing values and will raise errors or produce unexpected outputs. Preprocessing the data to address these NaNs is a necessary step before applying such models.\n",
        "Maintaining Data Integrity for Robust Analysis:\n",
        "Unaddressed missing data can lead to biased estimates and reduced statistical power, affecting the validity and generalizability of research findings or business decisions based on the data.\n",
        "Optimizing Data Utilization:\n",
        "While simply dropping rows or columns with missing data is an option, it can lead to significant data loss, especially in datasets with widespread missingness. Effective handling techniques, such as imputation, allow for the retention of valuable information, maximizing the utility of the dataset.\n",
        "Facilitating Data Visualization:\n",
        "Missing values can also interfere with data visualization tools, leading to incomplete or misleading plots that hinder the interpretation of patterns and trends.\n",
        "Pandas provides various tools like dropna(), fillna(), and interpolate() to effectively identify, treat, and manage missing data, ensuring data readiness for subsequent analysis and modeling."
      ],
      "metadata": {
        "id": "aqE6kboJEOOv"
      }
    },
    {
      "cell_type": "markdown",
      "source": [
        "14.  What are the benefits of using Plotly for data visualization?\n",
        "Ans:\n",
        "Plotly offers a wide range of chart types, from simple line charts to complex 3D plots, enabling diverse and comprehensive data visualizations. Its ability to handle large datasets efficiently ensures smooth performance even with extensive data, making it suitable for data-intensive applications\n"
      ],
      "metadata": {
        "id": "mDmG21NCEZVq"
      }
    },
    {
      "cell_type": "markdown",
      "source": [
        "15.  How does NumPy handle multidimensional arrays?\n",
        "Ans:\n",
        "NumPy handles multidimensional arrays through its core object, the ndarray (N-dimensional array). Key aspects of how NumPy manages these arrays include:\n",
        "Homogeneous Data Storage:\n",
        "All elements within a single ndarray must be of the same data type (dtype), ensuring efficient memory usage and fast operations.\n",
        "Internal 1D Storage with Metadata:\n",
        "While conceptually multidimensional, NumPy arrays are typically stored as a contiguous, one-dimensional block of data in memory. The multidimensional structure (shape, strides, and dimension sizes) is handled by metadata associated with the array, which dictates how elements are accessed and interpreted. This allows for flexible reshaping and viewing of arrays without copying data.\n",
        "Shape and Axes:\n",
        "The shape attribute of an ndarray is a tuple indicating the size of each dimension (or axis). For example, a 2D array (matrix) with 3 rows and 4 columns would have a shape of (3, 4).\n",
        "Dimensions are referred to as \"axes\" in NumPy. A 1D array has one axis, a 2D array has two axes, and so on.\n",
        "Indexing and Slicing:\n",
        "NumPy provides powerful indexing and slicing capabilities to access and manipulate elements or subarrays within multidimensional arrays.\n",
        "Integer Indexing: Individual elements are accessed using a comma-separated tuple of indices, one for each dimension (e.g., array[row_index, col_index]).\n",
        "Slicing: Subarrays or subsets of data can be extracted using slice notation (start:stop:step) for each dimension (e.g., array[row_start:row_stop, col_start:col_stop]).\n",
        "Broadcasting:\n",
        "NumPy's broadcasting mechanism enables operations between arrays of different shapes under certain conditions. It virtually \"stretches\" the smaller array to match the dimensions of the larger array for element-wise operations, eliminating the need for explicit loops and improving performance.\n",
        "Efficient Operations:\n",
        "NumPy leverages optimized C implementations for array operations, leading to significant performance gains compared to standard Python lists, especially for large datasets. Operations are often performed element-wise across entire arrays without explicit loops, further enhancing efficiency."
      ],
      "metadata": {
        "id": "arT7QagrEj_k"
      }
    },
    {
      "cell_type": "markdown",
      "source": [
        "16.  What is the role of Bokeh in data visualization?\n",
        "Ans:\n",
        "Bokeh is a Python library primarily used for creating interactive visualizations for modern web browsers. It enables users to build compelling and dynamic graphics that can be embedded in web pages, dashboards, and applications. Bokeh stands out for its ability to handle large datasets and its focus on interactivity, allowing users to explore and manipulate data directly within the visualizations.\n",
        "Here's a more detailed look at Bokeh's role:\n",
        "Key Features and Benefits:\n",
        "Interactivity:\n",
        "Bokeh excels at creating interactive plots that allow users to zoom, pan, hover over data points, and select data within the visualization.\n",
        "Modern Web Browsers:\n",
        "Bokeh outputs visualizations in HTML and JavaScript, making them easily viewable in any modern web browser.\n",
        "Large Datasets:\n",
        "Bokeh is designed to handle large datasets efficiently, making it suitable for big data analysis and visualization.\n",
        "Customization and Flexibility:\n",
        "Bokeh offers a high degree of customization, allowing users to tailor the appearance and behavior of their visualizations to specific needs.\n",
        "Integration with Python Ecosystem:\n",
        "Bokeh seamlessly integrates with other Python libraries like Pandas and Jupyter notebooks, making it a convenient tool for data scientists.\n",
        "Deployment Options:\n",
        "Bokeh visualizations can be deployed as standalone HTML documents, embedded in web applications (like Flask or Django), or run through a Bokeh server for more dynamic applications.\n",
        "Wide Range of Plot Types:\n",
        "Bokeh supports a variety of plot types, including scatter plots, line plots, bar charts, and more, making it versatile for different data visualization tasks.\n",
        "User Interface Widgets:\n",
        "Bokeh provides interactive widgets like sliders, dropdowns, and buttons that can be integrated into visualizations to enhance user interaction.\n"
      ],
      "metadata": {
        "id": "puj0J9mdEtxP"
      }
    },
    {
      "cell_type": "markdown",
      "source": [
        "17.  Explain the difference between apply() and map() in Pandas?\n",
        "Ans:\n",
        "In Pandas, both map() and apply() are used to apply functions or transformations to data, but they differ in their scope and primary use cases:\n",
        "     1. map()\n",
        "Scope: Exclusively operates on a Pandas Series.\n",
        "Purpose: Primarily used for element-wise substitutions or transformations based on a mapping (e.g., a dictionary, another Series, or a function). It effectively \"maps\" each value in the Series to a new value.\n",
        "Input: Can accept a dictionary, a Series, or a callable (function).\n",
        "Example:\n",
        "    import pandas as pd\n",
        "    s = pd.Series([1, 2, 3])\n",
        "    # Using a dictionary for mapping\n",
        "    s.map({1: 'one', 2: 'two', 3: 'three'})\n",
        "    # Using a function for transformation\n",
        "    s.map(lambda x: x * 2)\n",
        "    2. apply()\n",
        "Scope: Can operate on both Pandas Series and DataFrames.\n",
        "Purpose: More versatile for applying a function along an axis (rows or columns) of a DataFrame or to each element of a Series. It's suitable for more complex operations that might involve multiple columns or rows, or when you need to change the shape of the DataFrame.\n",
        "Input: Primarily accepts a callable (function). When applied to a DataFrame, it takes an axis argument (0 for columns, 1 for rows) to specify the direction of application.\n",
        "Example:\n",
        "    import pandas as pd\n",
        "    df = pd.DataFrame({'A': [1, 2, 3], 'B': [4, 5, 6]})\n",
        "    # Applying a function to each column (axis=0)\n",
        "    df.apply(lambda col: col.sum(), axis=0)\n",
        "    # Applying a function to each row (axis=1)\n",
        "    df.apply(lambda row: row['A'] + row['B'], axis=1)\n",
        "    # Applying to a Series (similar to map, but less optimized for simple element-wise)\n",
        "    df['A'].apply(lambda x: x * 2)\n",
        "\n",
        "Key Differences Summarized:\n",
        "Data Structure:\n",
        "map() is for Series only; apply() is for both Series and DataFrames.\n",
        "Flexibility:\n",
        "apply() offers greater flexibility, especially for DataFrame operations involving rows or columns, while map() is optimized for simple element-wise substitutions on Series.\n",
        "Input Type:\n",
        "map() can take dictionaries, Series, or callables; apply() primarily takes callables.\n",
        "Performance:\n",
        "For simple element-wise transformations on a Series, map() is generally more performant due to its specialized nature. For more complex operations or DataFrame-level transformations, apply() is the appropriate choice.\n"
      ],
      "metadata": {
        "id": "svo4QGWzE5aP"
      }
    },
    {
      "cell_type": "markdown",
      "source": [
        "18.  What are some advanced features of NumPy?\n",
        "Ans:\n",
        "Features of NumPy\n",
        "  1.  Multi-Dimensional Arrays\n",
        "Support for multi-dimensional arrays is one of the most essential features of NumPy. It provides a convenient way to create, manipulate, and perform operations on arrays of arbitrary dimensions.\n",
        "  2. Broadcasting\n",
        "Broadcasting allows NumPy to operate on arrays of different dimensions and shapes without the need for explicit loops. This is a powerful feature that can greatly simplify your code and make it more efficient.\n",
        "  3. Vectorized Operations\n",
        "NumPy provides a range of vectorized operations that make it easy to perform complex mathematical operations on arrays. Vectorized operations are performed element-wise on arrays, and they are much faster than using explicit loops. Vectorisation can greatly simplify your code and make it more efficient, especially when working with large datasets.\n",
        "  4. Indexing and Slicing\n",
        "NumPy provides powerful indexing and slicing capabilities that allow you to extract and manipulate subsets of arrays. NumPy arrays can be sliced along any axis, and you can use Boolean indexing to select elements that meet certain criteria.\n",
        "  5. Array Manipulation\n",
        "NumPy provides a wide range of functions for manipulating arrays. You can concatenate, stack, split, and reshape arrays, and you can transpose and flatten arrays as well. NumPy also provides functions for finding unique values, sorting arrays, and performing other types of manipulations.\n",
        "  6. Linear Algebra\n",
        "NumPy includes a linear algebra library that provides functions for performing common operations such as matrix multiplication, determinants, and eigenvalues. This library also provides functions for solving linear systems of equations and performing least-squares fits.\n",
        "  7. Random Number Generation\n",
        "NumPy includes a random number generation library that provides a range of functions for generating random numbers. You can generate random integers, floats, and arrays, and you can control the distribution and parameters of the generated numbers. This library is useful for simulations, statistical analysis, and other applications where random numbers are needed.\n",
        "  8. Performance Optimization\n",
        "NumPy is optimised for performance, which means that it can handle large datasets much faster than pure Python code. NumPy’s code is written in C and Fortran, which are much faster than Python.\n",
        "  9. Integration with Other Libraries\n",
        "NumPy integrates well with other Python libraries, such as Pandas, SciPy, and Matplotlib. Pandas uses NumPy arrays for its data structures, and SciPy provides a range of scientific computing functions that build on NumPy. Matplotlib provides a range of plotting functions that work well with NumPy arrays. NumPy’s integration with other libraries makes it even more powerful and flexible.\n"
      ],
      "metadata": {
        "id": "RqUIGm5mFRG_"
      }
    },
    {
      "cell_type": "markdown",
      "source": [
        "19. How does Pandas simplify time series analysis?\n",
        "Ans:\n",
        "Pandas simplifies time series analysis through its specialized data structures and functions designed to handle time-indexed data efficiently.\n",
        "Key Simplifications:\n",
        "DatetimeIndex:\n",
        "Pandas introduces the DatetimeIndex, a specialized index type that allows for powerful time-based indexing and selection. This enables intuitive slicing of data by date ranges (e.g., df.loc['2024-01-01':'2024-01-31']), partial string indexing (e.g., df.loc['2024'] for all data in 2024), and easy access to time-based attributes like year, month, day, or weekday.\n",
        "Time Series Specific Functions:\n",
        "Pandas provides built-in functions for common time series operations:\n",
        "Resampling: Easily change the frequency of your time series data (e.g., daily to weekly, hourly to daily) using methods like .resample().\n",
        "Rolling Window Calculations: Calculate moving averages, sums, or other statistics over a defined window of time using .rolling(), crucial for trend analysis and smoothing.\n",
        "Handling Missing Data: Efficiently deal with gaps in time series data, including interpolation and forward/backward filling.\n",
        "Time Zone Handling: Seamlessly convert between time zones and manage localized timestamps.\n",
        "Integration with NumPy:\n",
        "Pandas leverages NumPy's datetime64 and timedelta64 dtypes, ensuring efficient storage and computation for time-related data.\n",
        "Data Structure Compatibility:\n",
        "Time series data is typically stored in Pandas Series or DataFrames, which provide a familiar and flexible environment for data manipulation, cleaning, and visualization alongside time-specific functionalities.\n",
        "to_datetime() Function:\n",
        "Easily convert various string formats into proper datetime objects, a critical step for preparing raw time series data for analysis."
      ],
      "metadata": {
        "id": "WtEWzKZXIFJt"
      }
    },
    {
      "cell_type": "markdown",
      "source": [
        "20.  What is the role of a pivot table in Pandas?\n",
        "A pivot table in Pandas serves as a powerful data summarization and analysis tool, enabling the reorganization and aggregation of data from a DataFrame to reveal insights and patterns. Its primary roles include:\n",
        "Data Summarization and Aggregation:\n",
        "Pivot tables allow for the concise summarization of large datasets by performing aggregate calculations (e.g., sum, mean, count, median) on specific columns based on grouping criteria defined by other columns.\n",
        "Data Reshaping and Transformation:\n",
        "They enable the transformation of data from a \"long\" format to a \"wide\" format, where unique values from one or more columns become new columns in the resulting table. This restructuring facilitates easier comparison and analysis of different variables.\n",
        "Pattern and Trend Identification:\n",
        "By presenting summarized data in a structured, easily digestible format, pivot tables help in identifying trends, anomalies, and relationships within the data that might be obscured in the raw, unaggregated form.\n",
        "Flexible Data Analysis:\n",
        "Pivot tables offer flexibility in exploring data from various perspectives by allowing users to easily change the index (rows), columns, and values used for aggregation, providing dynamic views of the dataset.\n",
        "Preparation for Visualization:\n",
        "The organized and summarized nature of pivot table output makes it an ideal input for creating various data visualizations, such as charts and graphs, to visually represent insights and trends."
      ],
      "metadata": {
        "id": "uoNr7q-iI5ba"
      }
    },
    {
      "cell_type": "markdown",
      "source": [
        "21.  Why is NumPy’s array slicing faster than Python’s list slicing?\n",
        "Ans:\n",
        "NumPy's array slicing is significantly faster than Python's list slicing primarily due to differences in their underlying memory management and data storage.\n",
        "  1. Contiguous Memory Allocation and Homogeneous Data Types:\n",
        "NumPy Arrays:\n",
        "NumPy arrays store elements of a single, uniform data type (e.g., all integers, all floats) in contiguous blocks of memory. This \"locality of reference\" greatly improves cache performance, as the CPU can efficiently load and process data in chunks. When slicing, NumPy can directly calculate memory offsets to access the desired data without needing to traverse pointers.\n",
        "Python Lists:\n",
        "Python lists can store elements of different data types (heterogeneous). Internally, a Python list stores a list of pointers to the actual objects, which can be scattered across memory. Slicing a list requires dereferencing these pointers for each element, leading to more cache misses and slower access.\n",
        "  2. C Implementation and Optimized Operations:\n",
        "NumPy's core operations, including slicing, are largely implemented in C. This leverages the speed and efficiency of compiled code, allowing for highly optimized routines that are much faster than their Python equivalents.\n",
        "Python's list operations are also implemented in C, but the overhead of managing heterogeneous objects and pointer indirection still makes them less efficient for numerical computations compared to NumPy's specialized array structures.\n",
        "  3. Reduced Overhead:\n",
        "NumPy's homogeneous data types and contiguous memory layout reduce the overhead associated with type checking and memory management during operations like slicing. This streamlined approach contributes to its superior performance."
      ],
      "metadata": {
        "id": "N5bV5A8ZJb_X"
      }
    },
    {
      "cell_type": "markdown",
      "source": [
        "22.  What are some common use cases for Seaborn?\n",
        "Seaborn is a Python library built on Matplotlib, designed to create informative and attractive statistical graphics. Its common use cases include:\n",
        "Exploratory Data Analysis (EDA):\n",
        "Seaborn simplifies the process of understanding data distributions, relationships between variables, and identifying patterns or anomalies. This includes visualizing individual variable distributions (histograms, KDE plots), relationships between two variables (scatter plots, line plots), and relationships with categorical variables (box plots, violin plots, bar plots).\n",
        "Statistical Analysis Visualization:\n",
        "It provides tools for visualizing statistical relationships and model outputs. Examples include regression plots to show linear relationships, heatmaps for correlation matrices, and specialized plots for machine learning model evaluation like confusion matrices or ROC curves.\n",
        "Creating Publication-Quality Graphics:\n",
        "Seaborn offers appealing default styles and color palettes, making it easy to generate visually appealing plots suitable for reports, presentations, and academic publications without extensive manual customization.\n",
        "Visualizing Complex Data Structures:\n",
        "It integrates seamlessly with Pandas DataFrames, enabling efficient visualization of structured data. Features like pairplot allow for quick visualization of relationships between multiple variables in a dataset.\n",
        "Working with Categorical Data:\n",
        "Seaborn provides specialized plots for visualizing data across different categories, such as bar plots for comparing values, box plots and violin plots for showing distributions within categories, and swarm plots for visualizing individual data points within categories."
      ],
      "metadata": {
        "id": "hHnKeHeBJ7qO"
      }
    },
    {
      "cell_type": "code",
      "source": [
        "#1. How do you create a 2D NumPy array and calculate the sum of each row\n",
        "import numpy as np\n",
        "\n",
        "# Create a 2D NumPy array\n",
        "my_array = np.array([[1, 2, 3],\n",
        "                     [4, 5, 6],\n",
        "                     [7, 8, 9]])\n",
        "\n",
        "# Calculate the sum of each row\n",
        "row_sums = np.sum(my_array, axis=1)\n",
        "\n",
        "# Print the results\n",
        "print(\"Original array:\\n\", my_array)\n",
        "print(\"\\nSum of each row:\\n\", row_sums)"
      ],
      "metadata": {
        "colab": {
          "base_uri": "https://localhost:8080/"
        },
        "id": "FCuMI_R4KL3d",
        "outputId": "3d0e2881-536e-41e1-a63b-d377028f9ccd"
      },
      "execution_count": null,
      "outputs": [
        {
          "output_type": "stream",
          "name": "stdout",
          "text": [
            "Original array:\n",
            " [[1 2 3]\n",
            " [4 5 6]\n",
            " [7 8 9]]\n",
            "\n",
            "Sum of each row:\n",
            " [ 6 15 24]\n"
          ]
        }
      ]
    },
    {
      "cell_type": "code",
      "source": [
        "#2. Write a Pandas script to find the mean of a specific column in a DataFrameA\n",
        "import pandas as pd\n",
        "data = {'ColumnA': [10, 20, 30, 40, 50],\n",
        "            'ColumnB': [5, 15, 25, 35, 45],\n",
        "            'ColumnC': [1, 2, 3, 4, 5]}\n",
        "df = pd.DataFrame(data)"
      ],
      "metadata": {
        "id": "r7ygqD6gKaty"
      },
      "execution_count": null,
      "outputs": []
    },
    {
      "cell_type": "code",
      "source": [
        "#3.  Create a scatter plot using Matplotlib\n",
        "import matplotlib.pyplot as plt\n",
        "import numpy as np\n",
        "\n",
        "# Sample data\n",
        "x_values = np.array([5, 7, 8, 7, 2, 17, 2, 9, 4, 11, 12, 9, 6])\n",
        "y_values = np.array([99, 86, 87, 88, 111, 86, 103, 87, 94, 78, 77, 85, 86])\n",
        "\n",
        "# Create the scatter plot\n",
        "plt.scatter(x_values, y_values)\n",
        "\n",
        "# Add titles and labels for clarity (optional)\n",
        "plt.title(\"Sample Scatter Plot\")\n",
        "plt.xlabel(\"X-axis Values\")\n",
        "plt.ylabel(\"Y-axis Values\")\n",
        "\n",
        "# Display the plot\n",
        "plt.show()"
      ],
      "metadata": {
        "colab": {
          "base_uri": "https://localhost:8080/",
          "height": 472
        },
        "id": "EpNd4NPnKngz",
        "outputId": "a21c5bd0-ff41-4f67-acb5-85a604f05128"
      },
      "execution_count": null,
      "outputs": [
        {
          "output_type": "display_data",
          "data": {
            "text/plain": [
              "<Figure size 640x480 with 1 Axes>"
            ],
            "image/png": "[encoded data removed]"
          },
          "metadata": {}
        }
      ]
    },
    {
      "cell_type": "code",
      "source": [
        "#4. How do you calculate the correlation matrix using Seaborn and visualize it with a heatmap\n",
        "import pandas as pd\n",
        "import seaborn as sns\n",
        "import matplotlib.pyplot as plt\n",
        "\n",
        "# Sample DataFrame (replace with your actual data)\n",
        "data = {'var1': [1, 2, 3, 4, 5],\n",
        "        'var2': [2, 4, 5, 4, 5],\n",
        "        'var3': [7, 6, 5, 4, 3],\n",
        "        'var4': [1, 3, 2, 5, 4]}\n",
        "df = pd.DataFrame(data)\n",
        "\n",
        "# Calculate the correlation matrix\n",
        "correlation_matrix = df.corr()\n",
        "\n",
        "# Visualize the correlation matrix using a heatmap\n",
        "plt.figure(figsize=(8, 6))  # Adjust figure size as needed\n",
        "sns.heatmap(correlation_matrix, annot=True, cmap=\"coolwarm\", center=0, linewidths=.5, fmt=\".2f\")\n",
        "plt.title(\"Correlation Matrix Heatmap\")\n",
        "plt.show()"
      ],
      "metadata": {
        "colab": {
          "base_uri": "https://localhost:8080/",
          "height": 545
        },
        "id": "EeR9f1HlKwtT",
        "outputId": "b3c4d458-50a7-47b0-ba11-98db5bcfd485"
      },
      "execution_count": null,
      "outputs": [
        {
          "output_type": "display_data",
          "data": {
            "text/plain": [
              "<Figure size 800x600 with 2 Axes>"
            ],
            "image/png": "[encoded data removed]"
          },
          "metadata": {}
        }
      ]
    },
    {
      "cell_type": "code",
      "source": [
        "#5. Generate a bar plot using Plotly\n",
        "import plotly.express as px\n",
        "\n",
        "# Sample data\n",
        "categories = ['Product A', 'Product B', 'Product C', 'Product D']\n",
        "sales = [120, 85, 150, 90]\n",
        "\n",
        "# Create the bar plot\n",
        "fig = px.bar(x=categories, y=sales,\n",
        "             title='Monthly Sales by Product',\n",
        "             labels={'x': 'Product', 'y': 'Sales Units'})\n",
        "\n",
        "# Display the plot\n",
        "fig.show()"
      ],
      "metadata": {
        "colab": {
          "base_uri": "https://localhost:8080/",
          "height": 542
        },
        "id": "KocmTHbzK6lN",
        "outputId": "8f2e8637-e180-4c4c-aaae-50da37d54555"
      },
      "execution_count": null,
      "outputs": [
        {
          "output_type": "display_data",
          "data": {
            "text/html": [
              "<html>\n",
              "<head><meta charset=\"utf-8\" /></head>\n",
              "<body>\n",
              "    <div>            <script src=\"https://cdnjs.cloudflare.com/ajax/libs/mathjax/2.7.5/MathJax.js?config=TeX-AMS-MML_SVG\"></script><script type=\"text/javascript\">if (window.MathJax && window.MathJax.Hub && window.MathJax.Hub.Config) {window.MathJax.Hub.Config({SVG: {font: \"STIX-Web\"}});}</script>                <script type=\"text/javascript\">window.PlotlyConfig = {MathJaxConfig: 'local'};</script>\n",
              "        <script charset=\"utf-8\" src=\"https://cdn.plot.ly/plotly-2.35.2.min.js\"></script>                <div id=\"a7c94af1-2017-4772-a717-47a13b0979a6\" class=\"plotly-graph-div\" style=\"height:525px; width:100%;\"></div>            <script type=\"text/javascript\">                                    window.PLOTLYENV=window.PLOTLYENV || {};                                    if (document.getElementById(\"a7c94af1-2017-4772-a717-47a13b0979a6\")) {                    Plotly.newPlot(                        \"a7c94af1-2017-4772-a717-47a13b0979a6\",                        [{\"alignmentgroup\":\"True\",\"hovertemplate\":\"Product=%{x}\\u003cbr\\u003eSales Units=%{y}\\u003cextra\\u003e\\u003c\\u002fextra\\u003e\",\"legendgroup\":\"\",\"marker\":{\"color\":\"#636efa\",\"pattern\":{\"shape\":\"\"}},\"name\":\"\",\"offsetgroup\":\"\",\"orientation\":\"v\",\"showlegend\":false,\"textposition\":\"auto\",\"x\":[\"Product A\",\"Product B\",\"Product C\",\"Product D\"],\"xaxis\":\"x\",\"y\":[120,85,150,90],\"yaxis\":\"y\",\"type\":\"bar\"}],                        {\"template\":{\"data\":{\"histogram2dcontour\":[{\"type\":\"histogram2dcontour\",\"colorbar\":{\"outlinewidth\":0,\"ticks\":\"\"},\"colorscale\":[[0.0,\"#0d0887\"],[0.1111111111111111,\"#46039f\"],[0.2222222222222222,\"#7201a8\"],[0.3333333333333333,\"#9c179e\"],[0.4444444444444444,\"#bd3786\"],[0.5555555555555556,\"#d8576b\"],[0.6666666666666666,\"#ed7953\"],[0.7777777777777778,\"#fb9f3a\"],[0.8888888888888888,\"#fdca26\"],[1.0,\"#f0f921\"]]}],\"choropleth\":[{\"type\":\"choropleth\",\"colorbar\":{\"outlinewidth\":0,\"ticks\":\"\"}}],\"histogram2d\":[{\"type\":\"histogram2d\",\"colorbar\":{\"outlinewidth\":0,\"ticks\":\"\"},\"colorscale\":[[0.0,\"#0d0887\"],[0.1111111111111111,\"#46039f\"],[0.2222222222222222,\"#7201a8\"],[0.3333333333333333,\"#9c179e\"],[0.4444444444444444,\"#bd3786\"],[0.5555555555555556,\"#d8576b\"],[0.6666666666666666,\"#ed7953\"],[0.7777777777777778,\"#fb9f3a\"],[0.8888888888888888,\"#fdca26\"],[1.0,\"#f0f921\"]]}],\"heatmap\":[{\"type\":\"heatmap\",\"colorbar\":{\"outlinewidth\":0,\"ticks\":\"\"},\"colorscale\":[[0.0,\"#0d0887\"],[0.1111111111111111,\"#46039f\"],[0.2222222222222222,\"#7201a8\"],[0.3333333333333333,\"#9c179e\"],[0.4444444444444444,\"#bd3786\"],[0.5555555555555556,\"#d8576b\"],[0.6666666666666666,\"#ed7953\"],[0.7777777777777778,\"#fb9f3a\"],[0.8888888888888888,\"#fdca26\"],[1.0,\"#f0f921\"]]}],\"heatmapgl\":[{\"type\":\"heatmapgl\",\"colorbar\":{\"outlinewidth\":0,\"ticks\":\"\"},\"colorscale\":[[0.0,\"#0d0887\"],[0.1111111111111111,\"#46039f\"],[0.2222222222222222,\"#7201a8\"],[0.3333333333333333,\"#9c179e\"],[0.4444444444444444,\"#bd3786\"],[0.5555555555555556,\"#d8576b\"],[0.6666666666666666,\"#ed7953\"],[0.7777777777777778,\"#fb9f3a\"],[0.8888888888888888,\"#fdca26\"],[1.0,\"#f0f921\"]]}],\"contourcarpet\":[{\"type\":\"contourcarpet\",\"colorbar\":{\"outlinewidth\":0,\"ticks\":\"\"}}],\"contour\":[{\"type\":\"contour\",\"colorbar\":{\"outlinewidth\":0,\"ticks\":\"\"},\"colorscale\":[[0.0,\"#0d0887\"],[0.1111111111111111,\"#46039f\"],[0.2222222222222222,\"#7201a8\"],[0.3333333333333333,\"#9c179e\"],[0.4444444444444444,\"#bd3786\"],[0.5555555555555556,\"#d8576b\"],[0.6666666666666666,\"#ed7953\"],[0.7777777777777778,\"#fb9f3a\"],[0.8888888888888888,\"#fdca26\"],[1.0,\"#f0f921\"]]}],\"surface\":[{\"type\":\"surface\",\"colorbar\":{\"outlinewidth\":0,\"ticks\":\"\"},\"colorscale\":[[0.0,\"#0d0887\"],[0.1111111111111111,\"#46039f\"],[0.2222222222222222,\"#7201a8\"],[0.3333333333333333,\"#9c179e\"],[0.4444444444444444,\"#bd3786\"],[0.5555555555555556,\"#d8576b\"],[0.6666666666666666,\"#ed7953\"],[0.7777777777777778,\"#fb9f3a\"],[0.8888888888888888,\"#fdca26\"],[1.0,\"#f0f921\"]]}],\"mesh3d\":[{\"type\":\"mesh3d\",\"colorbar\":{\"outlinewidth\":0,\"ticks\":\"\"}}],\"scatter\":[{\"fillpattern\":{\"fillmode\":\"overlay\",\"size\":10,\"solidity\":0.2},\"type\":\"scatter\"}],\"parcoords\":[{\"type\":\"parcoords\",\"line\":{\"colorbar\":{\"outlinewidth\":0,\"ticks\":\"\"}}}],\"scatterpolargl\":[{\"type\":\"scatterpolargl\",\"marker\":{\"colorbar\":{\"outlinewidth\":0,\"ticks\":\"\"}}}],\"bar\":[{\"error_x\":{\"color\":\"#2a3f5f\"},\"error_y\":{\"color\":\"#2a3f5f\"},\"marker\":{\"line\":{\"color\":\"#E5ECF6\",\"width\":0.5},\"pattern\":{\"fillmode\":\"overlay\",\"size\":10,\"solidity\":0.2}},\"type\":\"bar\"}],\"scattergeo\":[{\"type\":\"scattergeo\",\"marker\":{\"colorbar\":{\"outlinewidth\":0,\"ticks\":\"\"}}}],\"scatterpolar\":[{\"type\":\"scatterpolar\",\"marker\":{\"colorbar\":{\"outlinewidth\":0,\"ticks\":\"\"}}}],\"histogram\":[{\"marker\":{\"pattern\":{\"fillmode\":\"overlay\",\"size\":10,\"solidity\":0.2}},\"type\":\"histogram\"}],\"scattergl\":[{\"type\":\"scattergl\",\"marker\":{\"colorbar\":{\"outlinewidth\":0,\"ticks\":\"\"}}}],\"scatter3d\":[{\"type\":\"scatter3d\",\"line\":{\"colorbar\":{\"outlinewidth\":0,\"ticks\":\"\"}},\"marker\":{\"colorbar\":{\"outlinewidth\":0,\"ticks\":\"\"}}}],\"scattermapbox\":[{\"type\":\"scattermapbox\",\"marker\":{\"colorbar\":{\"outlinewidth\":0,\"ticks\":\"\"}}}],\"scatterternary\":[{\"type\":\"scatterternary\",\"marker\":{\"colorbar\":{\"outlinewidth\":0,\"ticks\":\"\"}}}],\"scattercarpet\":[{\"type\":\"scattercarpet\",\"marker\":{\"colorbar\":{\"outlinewidth\":0,\"ticks\":\"\"}}}],\"carpet\":[{\"aaxis\":{\"endlinecolor\":\"#2a3f5f\",\"gridcolor\":\"white\",\"linecolor\":\"white\",\"minorgridcolor\":\"white\",\"startlinecolor\":\"#2a3f5f\"},\"baxis\":{\"endlinecolor\":\"#2a3f5f\",\"gridcolor\":\"white\",\"linecolor\":\"white\",\"minorgridcolor\":\"white\",\"startlinecolor\":\"#2a3f5f\"},\"type\":\"carpet\"}],\"table\":[{\"cells\":{\"fill\":{\"color\":\"#EBF0F8\"},\"line\":{\"color\":\"white\"}},\"header\":{\"fill\":{\"color\":\"#C8D4E3\"},\"line\":{\"color\":\"white\"}},\"type\":\"table\"}],\"barpolar\":[{\"marker\":{\"line\":{\"color\":\"#E5ECF6\",\"width\":0.5},\"pattern\":{\"fillmode\":\"overlay\",\"size\":10,\"solidity\":0.2}},\"type\":\"barpolar\"}],\"pie\":[{\"automargin\":true,\"type\":\"pie\"}]},\"layout\":{\"autotypenumbers\":\"strict\",\"colorway\":[\"#636efa\",\"#EF553B\",\"#00cc96\",\"#ab63fa\",\"#FFA15A\",\"#19d3f3\",\"#FF6692\",\"#B6E880\",\"#FF97FF\",\"#FECB52\"],\"font\":{\"color\":\"#2a3f5f\"},\"hovermode\":\"closest\",\"hoverlabel\":{\"align\":\"left\"},\"paper_bgcolor\":\"white\",\"plot_bgcolor\":\"#E5ECF6\",\"polar\":{\"bgcolor\":\"#E5ECF6\",\"angularaxis\":{\"gridcolor\":\"white\",\"linecolor\":\"white\",\"ticks\":\"\"},\"radialaxis\":{\"gridcolor\":\"white\",\"linecolor\":\"white\",\"ticks\":\"\"}},\"ternary\":{\"bgcolor\":\"#E5ECF6\",\"aaxis\":{\"gridcolor\":\"white\",\"linecolor\":\"white\",\"ticks\":\"\"},\"baxis\":{\"gridcolor\":\"white\",\"linecolor\":\"white\",\"ticks\":\"\"},\"caxis\":{\"gridcolor\":\"white\",\"linecolor\":\"white\",\"ticks\":\"\"}},\"coloraxis\":{\"colorbar\":{\"outlinewidth\":0,\"ticks\":\"\"}},\"colorscale\":{\"sequential\":[[0.0,\"#0d0887\"],[0.1111111111111111,\"#46039f\"],[0.2222222222222222,\"#7201a8\"],[0.3333333333333333,\"#9c179e\"],[0.4444444444444444,\"#bd3786\"],[0.5555555555555556,\"#d8576b\"],[0.6666666666666666,\"#ed7953\"],[0.7777777777777778,\"#fb9f3a\"],[0.8888888888888888,\"#fdca26\"],[1.0,\"#f0f921\"]],\"sequentialminus\":[[0.0,\"#0d0887\"],[0.1111111111111111,\"#46039f\"],[0.2222222222222222,\"#7201a8\"],[0.3333333333333333,\"#9c179e\"],[0.4444444444444444,\"#bd3786\"],[0.5555555555555556,\"#d8576b\"],[0.6666666666666666,\"#ed7953\"],[0.7777777777777778,\"#fb9f3a\"],[0.8888888888888888,\"#fdca26\"],[1.0,\"#f0f921\"]],\"diverging\":[[0,\"#8e0152\"],[0.1,\"#c51b7d\"],[0.2,\"#de77ae\"],[0.3,\"#f1b6da\"],[0.4,\"#fde0ef\"],[0.5,\"#f7f7f7\"],[0.6,\"#e6f5d0\"],[0.7,\"#b8e186\"],[0.8,\"#7fbc41\"],[0.9,\"#4d9221\"],[1,\"#276419\"]]},\"xaxis\":{\"gridcolor\":\"white\",\"linecolor\":\"white\",\"ticks\":\"\",\"title\":{\"standoff\":15},\"zerolinecolor\":\"white\",\"automargin\":true,\"zerolinewidth\":2},\"yaxis\":{\"gridcolor\":\"white\",\"linecolor\":\"white\",\"ticks\":\"\",\"title\":{\"standoff\":15},\"zerolinecolor\":\"white\",\"automargin\":true,\"zerolinewidth\":2},\"scene\":{\"xaxis\":{\"backgroundcolor\":\"#E5ECF6\",\"gridcolor\":\"white\",\"linecolor\":\"white\",\"showbackground\":true,\"ticks\":\"\",\"zerolinecolor\":\"white\",\"gridwidth\":2},\"yaxis\":{\"backgroundcolor\":\"#E5ECF6\",\"gridcolor\":\"white\",\"linecolor\":\"white\",\"showbackground\":true,\"ticks\":\"\",\"zerolinecolor\":\"white\",\"gridwidth\":2},\"zaxis\":{\"backgroundcolor\":\"#E5ECF6\",\"gridcolor\":\"white\",\"linecolor\":\"white\",\"showbackground\":true,\"ticks\":\"\",\"zerolinecolor\":\"white\",\"gridwidth\":2}},\"shapedefaults\":{\"line\":{\"color\":\"#2a3f5f\"}},\"annotationdefaults\":{\"arrowcolor\":\"#2a3f5f\",\"arrowhead\":0,\"arrowwidth\":1},\"geo\":{\"bgcolor\":\"white\",\"landcolor\":\"#E5ECF6\",\"subunitcolor\":\"white\",\"showland\":true,\"showlakes\":true,\"lakecolor\":\"white\"},\"title\":{\"x\":0.05},\"mapbox\":{\"style\":\"light\"}}},\"xaxis\":{\"anchor\":\"y\",\"domain\":[0.0,1.0],\"title\":{\"text\":\"Product\"}},\"yaxis\":{\"anchor\":\"x\",\"domain\":[0.0,1.0],\"title\":{\"text\":\"Sales Units\"}},\"legend\":{\"tracegroupgap\":0},\"title\":{\"text\":\"Monthly Sales by Product\"},\"barmode\":\"relative\"},                        {\"responsive\": true}                    ).then(function(){\n",
              "                            \n",
              "var gd = document.getElementById('a7c94af1-2017-4772-a717-47a13b0979a6');\n",
              "var x = new MutationObserver(function (mutations, observer) {{\n",
              "        var display = window.getComputedStyle(gd).display;\n",
              "        if (!display || display === 'none') {{\n",
              "            console.log([gd, 'removed!']);\n",
              "            Plotly.purge(gd);\n",
              "            observer.disconnect();\n",
              "        }}\n",
              "}});\n",
              "\n",
              "// Listen for the removal of the full notebook cells\n",
              "var notebookContainer = gd.closest('#notebook-container');\n",
              "if (notebookContainer) {{\n",
              "    x.observe(notebookContainer, {childList: true});\n",
              "}}\n",
              "\n",
              "// Listen for the clearing of the current output cell\n",
              "var outputEl = gd.closest('.output');\n",
              "if (outputEl) {{\n",
              "    x.observe(outputEl, {childList: true});\n",
              "}}\n",
              "\n",
              "                        })                };                            </script>        </div>\n",
              "</body>\n",
              "</html>"
            ]
          },
          "metadata": {}
        }
      ]
    },
    {
      "cell_type": "code",
      "source": [
        "# 6. Create a DataFrame and add a new column based on an existing column\n",
        "\n",
        "import pandas as pd\n",
        "\n",
        "df = pd.DataFrame({'Date':['10/2/2025', '11/2/2025', '12/2/2025', '13/2/2025'],\n",
        "                    'Event':['Music', 'Poetry', 'Theatre', 'Comedy'],\n",
        "                    'Cost':[10000, 5000, 15000, 2000]})\n",
        "\n",
        "print(df)\n"
      ],
      "metadata": {
        "colab": {
          "base_uri": "https://localhost:8080/"
        },
        "id": "r0QY1QCsIrQY",
        "outputId": "a3eceb13-5289-416f-fbc6-b20fc79ae346"
      },
      "execution_count": 4,
      "outputs": [
        {
          "output_type": "stream",
          "name": "stdout",
          "text": [
            "        Date    Event   Cost\n",
            "0  10/2/2025    Music  10000\n",
            "1  11/2/2025   Poetry   5000\n",
            "2  12/2/2025  Theatre  15000\n",
            "3  13/2/2025   Comedy   2000\n"
          ]
        }
      ]
    },
    {
      "cell_type": "code",
      "source": [
        "#7.  Write a program to perform element-wise multiplication of two NumPy arrays\n",
        "import numpy as np\n",
        "\n",
        "# Define two NumPy arrays\n",
        "array1 = np.array([1, 2, 3, 4])\n",
        "array2 = np.array([5, 6, 7, 8])\n",
        "\n",
        "# Method 1: Using the * operator for element-wise multiplication\n",
        "result_operator = array1 * array2\n",
        "print(\"Result using * operator:\", result_operator)\n",
        "\n",
        "# Method 2: Using the numpy.multiply() function for element-wise multiplication\n",
        "result_function = np.multiply(array1, array2)\n",
        "print(\"Result using np.multiply() function:\", result_function)"
      ],
      "metadata": {
        "colab": {
          "base_uri": "https://localhost:8080/"
        },
        "id": "3VmgEZn2I3TP",
        "outputId": "ce886235-8c11-455b-bb28-979a988a8f3c"
      },
      "execution_count": 5,
      "outputs": [
        {
          "output_type": "stream",
          "name": "stdout",
          "text": [
            "Result using * operator: [ 5 12 21 32]\n",
            "Result using np.multiply() function: [ 5 12 21 32]\n"
          ]
        }
      ]
    },
    {
      "cell_type": "code",
      "source": [
        "#8.  Create a line plot with multiple lines using Matplotlib\n",
        "import matplotlib.pyplot as plt\n",
        "\n",
        "# create data\n",
        "x = [10,20,30,40,50]\n",
        "y = [30,30,30,30,30]\n",
        "\n",
        "# plot line\n",
        "plt.plot(x, y)\n",
        "plt.show()"
      ],
      "metadata": {
        "colab": {
          "base_uri": "https://localhost:8080/",
          "height": 430
        },
        "id": "a76r8QZELEKn",
        "outputId": "2c7bd0a9-4126-4d93-ddd2-57fa49778393"
      },
      "execution_count": 6,
      "outputs": [
        {
          "output_type": "display_data",
          "data": {
            "text/plain": [
              "<Figure size 640x480 with 1 Axes>"
            ],
            "image/png": "[encoded data removed]"
          },
          "metadata": {}
        }
      ]
    },
    {
      "cell_type": "code",
      "source": [
        "#9.  Generate a Pandas DataFrame and filter rows where a column value is greater than a threshold\n",
        "import pandas as pd\n",
        "data = {'Name': ['Alice', 'Bob', 'Charlie'],\n",
        "        'Age': [25, 32,45],\n",
        "        'Score': [85, 90, 78]}\n",
        "df = pd.DataFrame(data)\n",
        "\n",
        "# Filter rows where Age is greater than 30\n",
        "filtered_df = df[df['Age'] > 30]\n",
        "display(filtered_df)"
      ],
      "metadata": {
        "colab": {
          "base_uri": "https://localhost:8080/",
          "height": 125
        },
        "id": "sgW49_mHLfMr",
        "outputId": "e2603713-be30-407a-c2a1-20ee8b111310"
      },
      "execution_count": 7,
      "outputs": [
        {
          "output_type": "display_data",
          "data": {
            "text/plain": [
              "      Name  Age  Score\n",
              "1      Bob   32     90\n",
              "2  Charlie   45     78"
            ],
            "text/html": [
              "\n",
              "  <div id=\"df-9507397d-beb6-4d27-8026-2fb12b14ebf4\" class=\"colab-df-container\">\n",
              "    <div>\n",
              "<style scoped>\n",
              "    .dataframe tbody tr th:only-of-type {\n",
              "        vertical-align: middle;\n",
              "    }\n",
              "\n",
              "    .dataframe tbody tr th {\n",
              "        vertical-align: top;\n",
              "    }\n",
              "\n",
              "    .dataframe thead th {\n",
              "        text-align: right;\n",
              "    }\n",
              "</style>\n",
              "<table border=\"1\" class=\"dataframe\">\n",
              "  <thead>\n",
              "    <tr style=\"text-align: right;\">\n",
              "      <th></th>\n",
              "      <th>Name</th>\n",
              "      <th>Age</th>\n",
              "      <th>Score</th>\n",
              "    </tr>\n",
              "  </thead>\n",
              "  <tbody>\n",
              "    <tr>\n",
              "      <th>1</th>\n",
              "      <td>Bob</td>\n",
              "      <td>32</td>\n",
              "      <td>90</td>\n",
              "    </tr>\n",
              "    <tr>\n",
              "      <th>2</th>\n",
              "      <td>Charlie</td>\n",
              "      <td>45</td>\n",
              "      <td>78</td>\n",
              "    </tr>\n",
              "  </tbody>\n",
              "</table>\n",
              "</div>\n",
              "    <div class=\"colab-df-buttons\">\n",
              "\n",
              "  <div class=\"colab-df-container\">\n",
              "    <button class=\"colab-df-convert\" onclick=\"convertToInteractive('df-9507397d-beb6-4d27-8026-2fb12b14ebf4')\"\n",
              "            title=\"Convert this dataframe to an interactive table.\"\n",
              "            style=\"display:none;\">\n",
              "\n",
              "  <svg xmlns=\"http://www.w3.org/2000/svg\" height=\"24px\" viewBox=\"0 -960 960 960\">\n",
              "    <path d=\"M120-120v-720h720v720H120Zm60-500h600v-160H180v160Zm220 220h160v-160H400v160Zm0 220h160v-160H400v160ZM180-400h160v-160H180v160Zm440 0h160v-160H620v160ZM180-180h160v-160H180v160Zm440 0h160v-160H620v160Z\"/>\n",
              "  </svg>\n",
              "    </button>\n",
              "\n",
              "  <style>\n",
              "    .colab-df-container {\n",
              "      display:flex;\n",
              "      gap: 12px;\n",
              "    }\n",
              "\n",
              "    .colab-df-convert {\n",
              "      background-color: #E8F0FE;\n",
              "      border: none;\n",
              "      border-radius: 50%;\n",
              "      cursor: pointer;\n",
              "      display: none;\n",
              "      fill: #1967D2;\n",
              "      height: 32px;\n",
              "      padding: 0 0 0 0;\n",
              "      width: 32px;\n",
              "    }\n",
              "\n",
              "    .colab-df-convert:hover {\n",
              "      background-color: #E2EBFA;\n",
              "      box-shadow: 0px 1px 2px rgba(60, 64, 67, 0.3), 0px 1px 3px 1px rgba(60, 64, 67, 0.15);\n",
              "      fill: #174EA6;\n",
              "    }\n",
              "\n",
              "    .colab-df-buttons div {\n",
              "      margin-bottom: 4px;\n",
              "    }\n",
              "\n",
              "    [theme=dark] .colab-df-convert {\n",
              "      background-color: #3B4455;\n",
              "      fill: #D2E3FC;\n",
              "    }\n",
              "\n",
              "    [theme=dark] .colab-df-convert:hover {\n",
              "      background-color: #434B5C;\n",
              "      box-shadow: 0px 1px 3px 1px rgba(0, 0, 0, 0.15);\n",
              "      filter: drop-shadow(0px 1px 2px rgba(0, 0, 0, 0.3));\n",
              "      fill: #FFFFFF;\n",
              "    }\n",
              "  </style>\n",
              "\n",
              "    <script>\n",
              "      const buttonEl =\n",
              "        document.querySelector('#df-9507397d-beb6-4d27-8026-2fb12b14ebf4 button.colab-df-convert');\n",
              "      buttonEl.style.display =\n",
              "        google.colab.kernel.accessAllowed ? 'block' : 'none';\n",
              "\n",
              "      async function convertToInteractive(key) {\n",
              "        const element = document.querySelector('#df-9507397d-beb6-4d27-8026-2fb12b14ebf4');\n",
              "        const dataTable =\n",
              "          await google.colab.kernel.invokeFunction('convertToInteractive',\n",
              "                                                    [key], {});\n",
              "        if (!dataTable) return;\n",
              "\n",
              "        const docLinkHtml = 'Like what you see? Visit the ' +\n",
              "          '<a target=\"_blank\" href=https://colab.research.google.com/notebooks/data_table.ipynb>data table notebook</a>'\n",
              "          + ' to learn more about interactive tables.';\n",
              "        element.innerHTML = '';\n",
              "        dataTable['output_type'] = 'display_data';\n",
              "        await google.colab.output.renderOutput(dataTable, element);\n",
              "        const docLink = document.createElement('div');\n",
              "        docLink.innerHTML = docLinkHtml;\n",
              "        element.appendChild(docLink);\n",
              "      }\n",
              "    </script>\n",
              "  </div>\n",
              "\n",
              "\n",
              "    <div id=\"df-26f07c30-b490-4dbf-a494-e4a93cb8966b\">\n",
              "      <button class=\"colab-df-quickchart\" onclick=\"quickchart('df-26f07c30-b490-4dbf-a494-e4a93cb8966b')\"\n",
              "                title=\"Suggest charts\"\n",
              "                style=\"display:none;\">\n",
              "\n",
              "<svg xmlns=\"http://www.w3.org/2000/svg\" height=\"24px\"viewBox=\"0 0 24 24\"\n",
              "     width=\"24px\">\n",
              "    <g>\n",
              "        <path d=\"M19 3H5c-1.1 0-2 .9-2 2v14c0 1.1.9 2 2 2h14c1.1 0 2-.9 2-2V5c0-1.1-.9-2-2-2zM9 17H7v-7h2v7zm4 0h-2V7h2v10zm4 0h-2v-4h2v4z\"/>\n",
              "    </g>\n",
              "</svg>\n",
              "      </button>\n",
              "\n",
              "<style>\n",
              "  .colab-df-quickchart {\n",
              "      --bg-color: #E8F0FE;\n",
              "      --fill-color: #1967D2;\n",
              "      --hover-bg-color: #E2EBFA;\n",
              "      --hover-fill-color: #174EA6;\n",
              "      --disabled-fill-color: #AAA;\n",
              "      --disabled-bg-color: #DDD;\n",
              "  }\n",
              "\n",
              "  [theme=dark] .colab-df-quickchart {\n",
              "      --bg-color: #3B4455;\n",
              "      --fill-color: #D2E3FC;\n",
              "      --hover-bg-color: #434B5C;\n",
              "      --hover-fill-color: #FFFFFF;\n",
              "      --disabled-bg-color: #3B4455;\n",
              "      --disabled-fill-color: #666;\n",
              "  }\n",
              "\n",
              "  .colab-df-quickchart {\n",
              "    background-color: var(--bg-color);\n",
              "    border: none;\n",
              "    border-radius: 50%;\n",
              "    cursor: pointer;\n",
              "    display: none;\n",
              "    fill: var(--fill-color);\n",
              "    height: 32px;\n",
              "    padding: 0;\n",
              "    width: 32px;\n",
              "  }\n",
              "\n",
              "  .colab-df-quickchart:hover {\n",
              "    background-color: var(--hover-bg-color);\n",
              "    box-shadow: 0 1px 2px rgba(60, 64, 67, 0.3), 0 1px 3px 1px rgba(60, 64, 67, 0.15);\n",
              "    fill: var(--button-hover-fill-color);\n",
              "  }\n",
              "\n",
              "  .colab-df-quickchart-complete:disabled,\n",
              "  .colab-df-quickchart-complete:disabled:hover {\n",
              "    background-color: var(--disabled-bg-color);\n",
              "    fill: var(--disabled-fill-color);\n",
              "    box-shadow: none;\n",
              "  }\n",
              "\n",
              "  .colab-df-spinner {\n",
              "    border: 2px solid var(--fill-color);\n",
              "    border-color: transparent;\n",
              "    border-bottom-color: var(--fill-color);\n",
              "    animation:\n",
              "      spin 1s steps(1) infinite;\n",
              "  }\n",
              "\n",
              "  @keyframes spin {\n",
              "    0% {\n",
              "      border-color: transparent;\n",
              "      border-bottom-color: var(--fill-color);\n",
              "      border-left-color: var(--fill-color);\n",
              "    }\n",
              "    20% {\n",
              "      border-color: transparent;\n",
              "      border-left-color: var(--fill-color);\n",
              "      border-top-color: var(--fill-color);\n",
              "    }\n",
              "    30% {\n",
              "      border-color: transparent;\n",
              "      border-left-color: var(--fill-color);\n",
              "      border-top-color: var(--fill-color);\n",
              "      border-right-color: var(--fill-color);\n",
              "    }\n",
              "    40% {\n",
              "      border-color: transparent;\n",
              "      border-right-color: var(--fill-color);\n",
              "      border-top-color: var(--fill-color);\n",
              "    }\n",
              "    60% {\n",
              "      border-color: transparent;\n",
              "      border-right-color: var(--fill-color);\n",
              "    }\n",
              "    80% {\n",
              "      border-color: transparent;\n",
              "      border-right-color: var(--fill-color);\n",
              "      border-bottom-color: var(--fill-color);\n",
              "    }\n",
              "    90% {\n",
              "      border-color: transparent;\n",
              "      border-bottom-color: var(--fill-color);\n",
              "    }\n",
              "  }\n",
              "</style>\n",
              "\n",
              "      <script>\n",
              "        async function quickchart(key) {\n",
              "          const quickchartButtonEl =\n",
              "            document.querySelector('#' + key + ' button');\n",
              "          quickchartButtonEl.disabled = true;  // To prevent multiple clicks.\n",
              "          quickchartButtonEl.classList.add('colab-df-spinner');\n",
              "          try {\n",
              "            const charts = await google.colab.kernel.invokeFunction(\n",
              "                'suggestCharts', [key], {});\n",
              "          } catch (error) {\n",
              "            console.error('Error during call to suggestCharts:', error);\n",
              "          }\n",
              "          quickchartButtonEl.classList.remove('colab-df-spinner');\n",
              "          quickchartButtonEl.classList.add('colab-df-quickchart-complete');\n",
              "        }\n",
              "        (() => {\n",
              "          let quickchartButtonEl =\n",
              "            document.querySelector('#df-26f07c30-b490-4dbf-a494-e4a93cb8966b button');\n",
              "          quickchartButtonEl.style.display =\n",
              "            google.colab.kernel.accessAllowed ? 'block' : 'none';\n",
              "        })();\n",
              "      </script>\n",
              "    </div>\n",
              "\n",
              "  <div id=\"id_3370c1a2-2ef9-4665-989c-7efcc54d6aeb\">\n",
              "    <style>\n",
              "      .colab-df-generate {\n",
              "        background-color: #E8F0FE;\n",
              "        border: none;\n",
              "        border-radius: 50%;\n",
              "        cursor: pointer;\n",
              "        display: none;\n",
              "        fill: #1967D2;\n",
              "        height: 32px;\n",
              "        padding: 0 0 0 0;\n",
              "        width: 32px;\n",
              "      }\n",
              "\n",
              "      .colab-df-generate:hover {\n",
              "        background-color: #E2EBFA;\n",
              "        box-shadow: 0px 1px 2px rgba(60, 64, 67, 0.3), 0px 1px 3px 1px rgba(60, 64, 67, 0.15);\n",
              "        fill: #174EA6;\n",
              "      }\n",
              "\n",
              "      [theme=dark] .colab-df-generate {\n",
              "        background-color: #3B4455;\n",
              "        fill: #D2E3FC;\n",
              "      }\n",
              "\n",
              "      [theme=dark] .colab-df-generate:hover {\n",
              "        background-color: #434B5C;\n",
              "        box-shadow: 0px 1px 3px 1px rgba(0, 0, 0, 0.15);\n",
              "        filter: drop-shadow(0px 1px 2px rgba(0, 0, 0, 0.3));\n",
              "        fill: #FFFFFF;\n",
              "      }\n",
              "    </style>\n",
              "    <button class=\"colab-df-generate\" onclick=\"generateWithVariable('filtered_df')\"\n",
              "            title=\"Generate code using this dataframe.\"\n",
              "            style=\"display:none;\">\n",
              "\n",
              "  <svg xmlns=\"http://www.w3.org/2000/svg\" height=\"24px\"viewBox=\"0 0 24 24\"\n",
              "       width=\"24px\">\n",
              "    <path d=\"M7,19H8.4L18.45,9,17,7.55,7,17.6ZM5,21V16.75L18.45,3.32a2,2,0,0,1,2.83,0l1.4,1.43a1.91,1.91,0,0,1,.58,1.4,1.91,1.91,0,0,1-.58,1.4L9.25,21ZM18.45,9,17,7.55Zm-12,3A5.31,5.31,0,0,0,4.9,8.1,5.31,5.31,0,0,0,1,6.5,5.31,5.31,0,0,0,4.9,4.9,5.31,5.31,0,0,0,6.5,1,5.31,5.31,0,0,0,8.1,4.9,5.31,5.31,0,0,0,12,6.5,5.46,5.46,0,0,0,6.5,12Z\"/>\n",
              "  </svg>\n",
              "    </button>\n",
              "    <script>\n",
              "      (() => {\n",
              "      const buttonEl =\n",
              "        document.querySelector('#id_3370c1a2-2ef9-4665-989c-7efcc54d6aeb button.colab-df-generate');\n",
              "      buttonEl.style.display =\n",
              "        google.colab.kernel.accessAllowed ? 'block' : 'none';\n",
              "\n",
              "      buttonEl.onclick = () => {\n",
              "        google.colab.notebook.generateWithVariable('filtered_df');\n",
              "      }\n",
              "      })();\n",
              "    </script>\n",
              "  </div>\n",
              "\n",
              "    </div>\n",
              "  </div>\n"
            ],
            "application/vnd.google.colaboratory.intrinsic+json": {
              "type": "dataframe",
              "variable_name": "filtered_df",
              "summary": "{\n  \"name\": \"filtered_df\",\n  \"rows\": 2,\n  \"fields\": [\n    {\n      \"column\": \"Name\",\n      \"properties\": {\n        \"dtype\": \"string\",\n        \"num_unique_values\": 2,\n        \"samples\": [\n          \"Charlie\",\n          \"Bob\"\n        ],\n        \"semantic_type\": \"\",\n        \"description\": \"\"\n      }\n    },\n    {\n      \"column\": \"Age\",\n      \"properties\": {\n        \"dtype\": \"number\",\n        \"std\": 9,\n        \"min\": 32,\n        \"max\": 45,\n        \"num_unique_values\": 2,\n        \"samples\": [\n          45,\n          32\n        ],\n        \"semantic_type\": \"\",\n        \"description\": \"\"\n      }\n    },\n    {\n      \"column\": \"Score\",\n      \"properties\": {\n        \"dtype\": \"number\",\n        \"std\": 8,\n        \"min\": 78,\n        \"max\": 90,\n        \"num_unique_values\": 2,\n        \"samples\": [\n          78,\n          90\n        ],\n        \"semantic_type\": \"\",\n        \"description\": \"\"\n      }\n    }\n  ]\n}"
            }
          },
          "metadata": {}
        }
      ]
    },
    {
      "cell_type": "code",
      "source": [
        "#10.  Create a histogram using Seaborn to visualize a distribution\n",
        "import seaborn as sns\n",
        "import matplotlib.pyplot as plt\n",
        "import numpy as np\n",
        "\n",
        "# 1. Prepare your data (e.g., generate random data)\n",
        "data = np.random.normal(loc=0, scale=1, size=1000) # 1000 data points from a normal distribution\n",
        "\n",
        "# 2. Create the histogram using sns.histplot()\n",
        "sns.histplot(x=data, kde=True) # 'x' specifies the data for the x-axis, 'kde=True' adds a Kernel Density Estimate\n",
        "\n",
        "# Optional: Add titles and labels for clarity\n",
        "plt.title('Distribution of Sample Data')\n",
        "plt.xlabel('Value')\n",
        "plt.ylabel('Frequency')\n",
        "\n",
        "# 3. Display the plot\n",
        "plt.show()"
      ],
      "metadata": {
        "colab": {
          "base_uri": "https://localhost:8080/",
          "height": 472
        },
        "id": "t9Of8CUPLrzx",
        "outputId": "a1e0851c-ff30-4370-c9f5-ac4c9dab51cc"
      },
      "execution_count": 8,
      "outputs": [
        {
          "output_type": "display_data",
          "data": {
            "text/plain": [
              "<Figure size 640x480 with 1 Axes>"
            ],
            "image/png": "[encoded data removed]"
          },
          "metadata": {}
        }
      ]
    },
    {
      "cell_type": "code",
      "source": [
        "# 11.  Perform matrix multiplication using NumPy\n",
        "import numpy as np\n",
        "\n",
        "# Define two matrices\n",
        "matrix_a = np.array([[1, 2], [3, 4]])\n",
        "matrix_b = np.array([[5, 6], [7, 8]])\n",
        "\n",
        "# Matrix multiplication using np.matmul()\n",
        "matrix_product_matmul = np.matmul(matrix_a, matrix_b)\n",
        "print(\"Matrix product using np.matmul():\\n\", matrix_product_matmul)\n",
        "\n",
        "# Matrix multiplication using the @ operator\n",
        "matrix_product_operator = matrix_a @ matrix_b\n",
        "print(\"\\nMatrix product using the @ operator:\\n\", matrix_product_operator)\n",
        "\n",
        "# Element-wise multiplication\n",
        "element_wise_product = np.multiply(matrix_a, matrix_b)\n",
        "print(\"\\nElement-wise product:\\n\", element_wise_product)\n",
        "\n",
        "# Example with np.dot()\n",
        "matrix_product_dot = np.dot(matrix_a, matrix_b)\n",
        "print(\"\\nMatrix product using np.dot():\\n\", matrix_product_dot)"
      ],
      "metadata": {
        "colab": {
          "base_uri": "https://localhost:8080/"
        },
        "id": "lX_dxOyjMI-6",
        "outputId": "7082c6e4-c738-4b05-f630-931f0d74ef03"
      },
      "execution_count": 9,
      "outputs": [
        {
          "output_type": "stream",
          "name": "stdout",
          "text": [
            "Matrix product using np.matmul():\n",
            " [[19 22]\n",
            " [43 50]]\n",
            "\n",
            "Matrix product using the @ operator:\n",
            " [[19 22]\n",
            " [43 50]]\n",
            "\n",
            "Element-wise product:\n",
            " [[ 5 12]\n",
            " [21 32]]\n",
            "\n",
            "Matrix product using np.dot():\n",
            " [[19 22]\n",
            " [43 50]]\n"
          ]
        }
      ]
    },
    {
      "cell_type": "code",
      "source": [
        "#12.  Use Pandas to load a CSV file and display its first 5 rows\n",
        "import pandas as pd\n",
        "\n",
        "df = pd.read_csv('data.csv')\n",
        "\n",
        "# Display the first 5 rows of the DataFrame\n",
        "print(df.head())"
      ],
      "metadata": {
        "id": "fTn4GN0TM92M"
      },
      "execution_count": null,
      "outputs": []
    },
    {
      "cell_type": "code",
      "source": [
        "#13.  Create a 3D scatter plot using Plotly\n",
        "import plotly.graph_objects as go\n",
        "import numpy as np\n",
        "\n",
        "# Create sample data\n",
        "np.random.seed(42)\n",
        "x_data = np.random.rand(50)\n",
        "y_data = np.random.rand(50)\n",
        "z_data = np.random.rand(50)\n",
        "\n",
        "# Create the 3D scatter trace\n",
        "scatter_3d = go.Scatter3d(\n",
        "    x=x_data,\n",
        "    y=y_data,\n",
        "    z=z_data,\n",
        "    mode='markers',\n",
        "    marker=dict(\n",
        "        size=8,\n",
        "        color=z_data,  # Color based on Z-value\n",
        "        colorscale='Viridis',\n",
        "        opacity=0.8\n",
        "    )\n",
        ")\n",
        "\n",
        "# Create the figure and add the trace\n",
        "fig = go.Figure(data=[scatter_3d])\n",
        "\n",
        "# Update layout for title and axis labels\n",
        "fig.update_layout(\n",
        "    title='3D Scatter Plot with Plotly Graph Objects',\n",
        "    scene=dict(\n",
        "        xaxis_title='X-Axis',\n",
        "        yaxis_title='Y-Axis',\n",
        "        zaxis_title='Z-Axis'\n",
        "    )\n",
        ")\n",
        "fig.show()"
      ],
      "metadata": {
        "colab": {
          "base_uri": "https://localhost:8080/",
          "height": 542
        },
        "id": "t-_PAgCePIrG",
        "outputId": "6cf2abd0-c8be-445c-81e9-2b629d708413"
      },
      "execution_count": 19,
      "outputs": [
        {
          "output_type": "display_data",
          "data": {
            "text/html": [
              "<html>\n",
              "<head><meta charset=\"utf-8\" /></head>\n",
              "<body>\n",
              "    <div>            <script src=\"https://cdnjs.cloudflare.com/ajax/libs/mathjax/2.7.5/MathJax.js?config=TeX-AMS-MML_SVG\"></script><script type=\"text/javascript\">if (window.MathJax && window.MathJax.Hub && window.MathJax.Hub.Config) {window.MathJax.Hub.Config({SVG: {font: \"STIX-Web\"}});}</script>                <script type=\"text/javascript\">window.PlotlyConfig = {MathJaxConfig: 'local'};</script>\n",
              "        <script charset=\"utf-8\" src=\"https://cdn.plot.ly/plotly-2.35.2.min.js\"></script>                <div id=\"13b8f09e-15fb-4309-a602-3dd1fb512c91\" class=\"plotly-graph-div\" style=\"height:525px; width:100%;\"></div>            <script type=\"text/javascript\">                                    window.PLOTLYENV=window.PLOTLYENV || {};                                    if (document.getElementById(\"13b8f09e-15fb-4309-a602-3dd1fb512c91\")) {                    Plotly.newPlot(                        \"13b8f09e-15fb-4309-a602-3dd1fb512c91\",                        [{\"marker\":{\"color\":[0.03142918568673425,0.6364104112637804,0.3143559810763267,0.5085706911647028,0.907566473926093,0.24929222914887494,0.41038292303562973,0.7555511385430487,0.22879816549162246,0.07697990982879299,0.289751452913768,0.16122128725400442,0.9296976523425731,0.808120379564417,0.6334037565104235,0.8714605901877177,0.8036720768991145,0.18657005888603584,0.8925589984899778,0.5393422419156507,0.8074401551640625,0.8960912999234932,0.3180034749718639,0.11005192452767676,0.22793516254194168,0.4271077886262563,0.8180147659224931,0.8607305832563434,0.006952130531190703,0.5107473025775657,0.417411003148779,0.22210781047073025,0.1198653673336828,0.33761517140362796,0.9429097039125192,0.32320293202075523,0.5187906217433661,0.7030189588951778,0.363629602379294,0.9717820827209607,0.9624472949421112,0.25178229582536416,0.49724850589238545,0.30087830981676966,0.2848404943774676,0.036886947354532795,0.6095643339798968,0.5026790232288615,0.05147875124998935,0.27864646423661144],\"colorscale\":[[0.0,\"#440154\"],[0.1111111111111111,\"#482878\"],[0.2222222222222222,\"#3e4989\"],[0.3333333333333333,\"#31688e\"],[0.4444444444444444,\"#26828e\"],[0.5555555555555556,\"#1f9e89\"],[0.6666666666666666,\"#35b779\"],[0.7777777777777778,\"#6ece58\"],[0.8888888888888888,\"#b5de2b\"],[1.0,\"#fde725\"]],\"opacity\":0.8,\"size\":8},\"mode\":\"markers\",\"x\":[0.3745401188473625,0.9507143064099162,0.7319939418114051,0.5986584841970366,0.15601864044243652,0.15599452033620265,0.05808361216819946,0.8661761457749352,0.6011150117432088,0.7080725777960455,0.020584494295802447,0.9699098521619943,0.8324426408004217,0.21233911067827616,0.18182496720710062,0.18340450985343382,0.3042422429595377,0.5247564316322378,0.43194501864211576,0.2912291401980419,0.6118528947223795,0.13949386065204183,0.29214464853521815,0.3663618432936917,0.45606998421703593,0.7851759613930136,0.19967378215835974,0.5142344384136116,0.5924145688620425,0.046450412719997725,0.6075448519014384,0.17052412368729153,0.06505159298527952,0.9488855372533332,0.9656320330745594,0.8083973481164611,0.3046137691733707,0.09767211400638387,0.6842330265121569,0.4401524937396013,0.12203823484477883,0.4951769101112702,0.034388521115218396,0.9093204020787821,0.2587799816000169,0.662522284353982,0.31171107608941095,0.5200680211778108,0.5467102793432796,0.18485445552552704],\"y\":[0.9695846277645586,0.7751328233611146,0.9394989415641891,0.8948273504276488,0.5978999788110851,0.9218742350231168,0.0884925020519195,0.1959828624191452,0.045227288910538066,0.32533033076326434,0.388677289689482,0.2713490317738959,0.8287375091519293,0.3567533266935893,0.28093450968738076,0.5426960831582485,0.14092422497476265,0.8021969807540397,0.07455064367977082,0.9868869366005173,0.7722447692966574,0.1987156815341724,0.005522117123602399,0.8154614284548342,0.7068573438476171,0.7290071680409873,0.7712703466859457,0.07404465173409036,0.3584657285442726,0.11586905952512971,0.8631034258755935,0.6232981268275579,0.3308980248526492,0.06355835028602363,0.3109823217156622,0.32518332202674705,0.7296061783380641,0.6375574713552131,0.8872127425763265,0.4722149251619493,0.1195942459383017,0.713244787222995,0.7607850486168974,0.5612771975694962,0.770967179954561,0.49379559636439074,0.5227328293819941,0.42754101835854963,0.02541912674409519,0.10789142699330445],\"z\":[0.03142918568673425,0.6364104112637804,0.3143559810763267,0.5085706911647028,0.907566473926093,0.24929222914887494,0.41038292303562973,0.7555511385430487,0.22879816549162246,0.07697990982879299,0.289751452913768,0.16122128725400442,0.9296976523425731,0.808120379564417,0.6334037565104235,0.8714605901877177,0.8036720768991145,0.18657005888603584,0.8925589984899778,0.5393422419156507,0.8074401551640625,0.8960912999234932,0.3180034749718639,0.11005192452767676,0.22793516254194168,0.4271077886262563,0.8180147659224931,0.8607305832563434,0.006952130531190703,0.5107473025775657,0.417411003148779,0.22210781047073025,0.1198653673336828,0.33761517140362796,0.9429097039125192,0.32320293202075523,0.5187906217433661,0.7030189588951778,0.363629602379294,0.9717820827209607,0.9624472949421112,0.25178229582536416,0.49724850589238545,0.30087830981676966,0.2848404943774676,0.036886947354532795,0.6095643339798968,0.5026790232288615,0.05147875124998935,0.27864646423661144],\"type\":\"scatter3d\"}],                        {\"template\":{\"data\":{\"histogram2dcontour\":[{\"type\":\"histogram2dcontour\",\"colorbar\":{\"outlinewidth\":0,\"ticks\":\"\"},\"colorscale\":[[0.0,\"#0d0887\"],[0.1111111111111111,\"#46039f\"],[0.2222222222222222,\"#7201a8\"],[0.3333333333333333,\"#9c179e\"],[0.4444444444444444,\"#bd3786\"],[0.5555555555555556,\"#d8576b\"],[0.6666666666666666,\"#ed7953\"],[0.7777777777777778,\"#fb9f3a\"],[0.8888888888888888,\"#fdca26\"],[1.0,\"#f0f921\"]]}],\"choropleth\":[{\"type\":\"choropleth\",\"colorbar\":{\"outlinewidth\":0,\"ticks\":\"\"}}],\"histogram2d\":[{\"type\":\"histogram2d\",\"colorbar\":{\"outlinewidth\":0,\"ticks\":\"\"},\"colorscale\":[[0.0,\"#0d0887\"],[0.1111111111111111,\"#46039f\"],[0.2222222222222222,\"#7201a8\"],[0.3333333333333333,\"#9c179e\"],[0.4444444444444444,\"#bd3786\"],[0.5555555555555556,\"#d8576b\"],[0.6666666666666666,\"#ed7953\"],[0.7777777777777778,\"#fb9f3a\"],[0.8888888888888888,\"#fdca26\"],[1.0,\"#f0f921\"]]}],\"heatmap\":[{\"type\":\"heatmap\",\"colorbar\":{\"outlinewidth\":0,\"ticks\":\"\"},\"colorscale\":[[0.0,\"#0d0887\"],[0.1111111111111111,\"#46039f\"],[0.2222222222222222,\"#7201a8\"],[0.3333333333333333,\"#9c179e\"],[0.4444444444444444,\"#bd3786\"],[0.5555555555555556,\"#d8576b\"],[0.6666666666666666,\"#ed7953\"],[0.7777777777777778,\"#fb9f3a\"],[0.8888888888888888,\"#fdca26\"],[1.0,\"#f0f921\"]]}],\"heatmapgl\":[{\"type\":\"heatmapgl\",\"colorbar\":{\"outlinewidth\":0,\"ticks\":\"\"},\"colorscale\":[[0.0,\"#0d0887\"],[0.1111111111111111,\"#46039f\"],[0.2222222222222222,\"#7201a8\"],[0.3333333333333333,\"#9c179e\"],[0.4444444444444444,\"#bd3786\"],[0.5555555555555556,\"#d8576b\"],[0.6666666666666666,\"#ed7953\"],[0.7777777777777778,\"#fb9f3a\"],[0.8888888888888888,\"#fdca26\"],[1.0,\"#f0f921\"]]}],\"contourcarpet\":[{\"type\":\"contourcarpet\",\"colorbar\":{\"outlinewidth\":0,\"ticks\":\"\"}}],\"contour\":[{\"type\":\"contour\",\"colorbar\":{\"outlinewidth\":0,\"ticks\":\"\"},\"colorscale\":[[0.0,\"#0d0887\"],[0.1111111111111111,\"#46039f\"],[0.2222222222222222,\"#7201a8\"],[0.3333333333333333,\"#9c179e\"],[0.4444444444444444,\"#bd3786\"],[0.5555555555555556,\"#d8576b\"],[0.6666666666666666,\"#ed7953\"],[0.7777777777777778,\"#fb9f3a\"],[0.8888888888888888,\"#fdca26\"],[1.0,\"#f0f921\"]]}],\"surface\":[{\"type\":\"surface\",\"colorbar\":{\"outlinewidth\":0,\"ticks\":\"\"},\"colorscale\":[[0.0,\"#0d0887\"],[0.1111111111111111,\"#46039f\"],[0.2222222222222222,\"#7201a8\"],[0.3333333333333333,\"#9c179e\"],[0.4444444444444444,\"#bd3786\"],[0.5555555555555556,\"#d8576b\"],[0.6666666666666666,\"#ed7953\"],[0.7777777777777778,\"#fb9f3a\"],[0.8888888888888888,\"#fdca26\"],[1.0,\"#f0f921\"]]}],\"mesh3d\":[{\"type\":\"mesh3d\",\"colorbar\":{\"outlinewidth\":0,\"ticks\":\"\"}}],\"scatter\":[{\"fillpattern\":{\"fillmode\":\"overlay\",\"size\":10,\"solidity\":0.2},\"type\":\"scatter\"}],\"parcoords\":[{\"type\":\"parcoords\",\"line\":{\"colorbar\":{\"outlinewidth\":0,\"ticks\":\"\"}}}],\"scatterpolargl\":[{\"type\":\"scatterpolargl\",\"marker\":{\"colorbar\":{\"outlinewidth\":0,\"ticks\":\"\"}}}],\"bar\":[{\"error_x\":{\"color\":\"#2a3f5f\"},\"error_y\":{\"color\":\"#2a3f5f\"},\"marker\":{\"line\":{\"color\":\"#E5ECF6\",\"width\":0.5},\"pattern\":{\"fillmode\":\"overlay\",\"size\":10,\"solidity\":0.2}},\"type\":\"bar\"}],\"scattergeo\":[{\"type\":\"scattergeo\",\"marker\":{\"colorbar\":{\"outlinewidth\":0,\"ticks\":\"\"}}}],\"scatterpolar\":[{\"type\":\"scatterpolar\",\"marker\":{\"colorbar\":{\"outlinewidth\":0,\"ticks\":\"\"}}}],\"histogram\":[{\"marker\":{\"pattern\":{\"fillmode\":\"overlay\",\"size\":10,\"solidity\":0.2}},\"type\":\"histogram\"}],\"scattergl\":[{\"type\":\"scattergl\",\"marker\":{\"colorbar\":{\"outlinewidth\":0,\"ticks\":\"\"}}}],\"scatter3d\":[{\"type\":\"scatter3d\",\"line\":{\"colorbar\":{\"outlinewidth\":0,\"ticks\":\"\"}},\"marker\":{\"colorbar\":{\"outlinewidth\":0,\"ticks\":\"\"}}}],\"scattermapbox\":[{\"type\":\"scattermapbox\",\"marker\":{\"colorbar\":{\"outlinewidth\":0,\"ticks\":\"\"}}}],\"scatterternary\":[{\"type\":\"scatterternary\",\"marker\":{\"colorbar\":{\"outlinewidth\":0,\"ticks\":\"\"}}}],\"scattercarpet\":[{\"type\":\"scattercarpet\",\"marker\":{\"colorbar\":{\"outlinewidth\":0,\"ticks\":\"\"}}}],\"carpet\":[{\"aaxis\":{\"endlinecolor\":\"#2a3f5f\",\"gridcolor\":\"white\",\"linecolor\":\"white\",\"minorgridcolor\":\"white\",\"startlinecolor\":\"#2a3f5f\"},\"baxis\":{\"endlinecolor\":\"#2a3f5f\",\"gridcolor\":\"white\",\"linecolor\":\"white\",\"minorgridcolor\":\"white\",\"startlinecolor\":\"#2a3f5f\"},\"type\":\"carpet\"}],\"table\":[{\"cells\":{\"fill\":{\"color\":\"#EBF0F8\"},\"line\":{\"color\":\"white\"}},\"header\":{\"fill\":{\"color\":\"#C8D4E3\"},\"line\":{\"color\":\"white\"}},\"type\":\"table\"}],\"barpolar\":[{\"marker\":{\"line\":{\"color\":\"#E5ECF6\",\"width\":0.5},\"pattern\":{\"fillmode\":\"overlay\",\"size\":10,\"solidity\":0.2}},\"type\":\"barpolar\"}],\"pie\":[{\"automargin\":true,\"type\":\"pie\"}]},\"layout\":{\"autotypenumbers\":\"strict\",\"colorway\":[\"#636efa\",\"#EF553B\",\"#00cc96\",\"#ab63fa\",\"#FFA15A\",\"#19d3f3\",\"#FF6692\",\"#B6E880\",\"#FF97FF\",\"#FECB52\"],\"font\":{\"color\":\"#2a3f5f\"},\"hovermode\":\"closest\",\"hoverlabel\":{\"align\":\"left\"},\"paper_bgcolor\":\"white\",\"plot_bgcolor\":\"#E5ECF6\",\"polar\":{\"bgcolor\":\"#E5ECF6\",\"angularaxis\":{\"gridcolor\":\"white\",\"linecolor\":\"white\",\"ticks\":\"\"},\"radialaxis\":{\"gridcolor\":\"white\",\"linecolor\":\"white\",\"ticks\":\"\"}},\"ternary\":{\"bgcolor\":\"#E5ECF6\",\"aaxis\":{\"gridcolor\":\"white\",\"linecolor\":\"white\",\"ticks\":\"\"},\"baxis\":{\"gridcolor\":\"white\",\"linecolor\":\"white\",\"ticks\":\"\"},\"caxis\":{\"gridcolor\":\"white\",\"linecolor\":\"white\",\"ticks\":\"\"}},\"coloraxis\":{\"colorbar\":{\"outlinewidth\":0,\"ticks\":\"\"}},\"colorscale\":{\"sequential\":[[0.0,\"#0d0887\"],[0.1111111111111111,\"#46039f\"],[0.2222222222222222,\"#7201a8\"],[0.3333333333333333,\"#9c179e\"],[0.4444444444444444,\"#bd3786\"],[0.5555555555555556,\"#d8576b\"],[0.6666666666666666,\"#ed7953\"],[0.7777777777777778,\"#fb9f3a\"],[0.8888888888888888,\"#fdca26\"],[1.0,\"#f0f921\"]],\"sequentialminus\":[[0.0,\"#0d0887\"],[0.1111111111111111,\"#46039f\"],[0.2222222222222222,\"#7201a8\"],[0.3333333333333333,\"#9c179e\"],[0.4444444444444444,\"#bd3786\"],[0.5555555555555556,\"#d8576b\"],[0.6666666666666666,\"#ed7953\"],[0.7777777777777778,\"#fb9f3a\"],[0.8888888888888888,\"#fdca26\"],[1.0,\"#f0f921\"]],\"diverging\":[[0,\"#8e0152\"],[0.1,\"#c51b7d\"],[0.2,\"#de77ae\"],[0.3,\"#f1b6da\"],[0.4,\"#fde0ef\"],[0.5,\"#f7f7f7\"],[0.6,\"#e6f5d0\"],[0.7,\"#b8e186\"],[0.8,\"#7fbc41\"],[0.9,\"#4d9221\"],[1,\"#276419\"]]},\"xaxis\":{\"gridcolor\":\"white\",\"linecolor\":\"white\",\"ticks\":\"\",\"title\":{\"standoff\":15},\"zerolinecolor\":\"white\",\"automargin\":true,\"zerolinewidth\":2},\"yaxis\":{\"gridcolor\":\"white\",\"linecolor\":\"white\",\"ticks\":\"\",\"title\":{\"standoff\":15},\"zerolinecolor\":\"white\",\"automargin\":true,\"zerolinewidth\":2},\"scene\":{\"xaxis\":{\"backgroundcolor\":\"#E5ECF6\",\"gridcolor\":\"white\",\"linecolor\":\"white\",\"showbackground\":true,\"ticks\":\"\",\"zerolinecolor\":\"white\",\"gridwidth\":2},\"yaxis\":{\"backgroundcolor\":\"#E5ECF6\",\"gridcolor\":\"white\",\"linecolor\":\"white\",\"showbackground\":true,\"ticks\":\"\",\"zerolinecolor\":\"white\",\"gridwidth\":2},\"zaxis\":{\"backgroundcolor\":\"#E5ECF6\",\"gridcolor\":\"white\",\"linecolor\":\"white\",\"showbackground\":true,\"ticks\":\"\",\"zerolinecolor\":\"white\",\"gridwidth\":2}},\"shapedefaults\":{\"line\":{\"color\":\"#2a3f5f\"}},\"annotationdefaults\":{\"arrowcolor\":\"#2a3f5f\",\"arrowhead\":0,\"arrowwidth\":1},\"geo\":{\"bgcolor\":\"white\",\"landcolor\":\"#E5ECF6\",\"subunitcolor\":\"white\",\"showland\":true,\"showlakes\":true,\"lakecolor\":\"white\"},\"title\":{\"x\":0.05},\"mapbox\":{\"style\":\"light\"}}},\"title\":{\"text\":\"3D Scatter Plot with Plotly Graph Objects\"},\"scene\":{\"xaxis\":{\"title\":{\"text\":\"X-Axis\"}},\"yaxis\":{\"title\":{\"text\":\"Y-Axis\"}},\"zaxis\":{\"title\":{\"text\":\"Z-Axis\"}}}},                        {\"responsive\": true}                    ).then(function(){\n",
              "                            \n",
              "var gd = document.getElementById('13b8f09e-15fb-4309-a602-3dd1fb512c91');\n",
              "var x = new MutationObserver(function (mutations, observer) {{\n",
              "        var display = window.getComputedStyle(gd).display;\n",
              "        if (!display || display === 'none') {{\n",
              "            console.log([gd, 'removed!']);\n",
              "            Plotly.purge(gd);\n",
              "            observer.disconnect();\n",
              "        }}\n",
              "}});\n",
              "\n",
              "// Listen for the removal of the full notebook cells\n",
              "var notebookContainer = gd.closest('#notebook-container');\n",
              "if (notebookContainer) {{\n",
              "    x.observe(notebookContainer, {childList: true});\n",
              "}}\n",
              "\n",
              "// Listen for the clearing of the current output cell\n",
              "var outputEl = gd.closest('.output');\n",
              "if (outputEl) {{\n",
              "    x.observe(outputEl, {childList: true});\n",
              "}}\n",
              "\n",
              "                        })                };                            </script>        </div>\n",
              "</body>\n",
              "</html>"
            ]
          },
          "metadata": {}
        }
      ]
    }
  ]
}